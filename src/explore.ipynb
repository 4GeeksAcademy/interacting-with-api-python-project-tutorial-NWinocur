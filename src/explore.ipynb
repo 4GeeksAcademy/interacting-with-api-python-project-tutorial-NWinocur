{
    "cells": [
        {
            "cell_type": "markdown",
            "metadata": {},
            "source": [
                "# Explore here"
            ]
        },
        {
            "cell_type": "code",
            "execution_count": 10,
            "metadata": {},
            "outputs": [],
            "source": [
                "import os\n",
                "import pandas as pd\n",
                "import matplotlib.pyplot as plt\n",
                "import seaborn as sns\n",
                "from dotenv import load_dotenv\n",
                "\n",
                "# load the .env file variables\n",
                "load_dotenv()\n",
                "\n",
                "# Get credential values\n",
                "client_id = os.environ.get(\"CLIENT_ID\")\n",
                "client_secret = os.environ.get(\"CLIENT_SECRET\")"
            ]
        },
        {
            "cell_type": "code",
            "execution_count": 11,
            "metadata": {},
            "outputs": [],
            "source": [
                "import spotipy\n",
                "from spotipy.oauth2 import SpotifyClientCredentials\n",
                "\n",
                "auth_manager = SpotifyClientCredentials(client_id=client_id, client_secret=client_secret)\n",
                "spotify = spotipy.Spotify(auth_manager=auth_manager)"
            ]
        },
        {
            "cell_type": "code",
            "execution_count": null,
            "metadata": {},
            "outputs": [
                {
                    "name": "stdout",
                    "output_type": "stream",
                    "text": [
                        "Cirrus\n",
                        "Kong\n",
                        "Rosewood\n",
                        "Shadows\n",
                        "Days To Come\n",
                        "Tides\n",
                        "Kerala\n",
                        "Break Apart\n",
                        "Dark Will Fall (feat. Jacob Lusk)\n",
                        "Terrapin\n"
                    ]
                }
            ],
            "source": [
                "ARTIST_ID_BONOBO = \"0cmWgDlu9CwTgxPhf403hb\"\n",
                "BONOBO_URI = f\"spotify:artist:{ARTIST_ID_BONOBO}\"\n",
                "\n",
                "results = spotify.artist_top_tracks(ARTIST_ID_BONOBO)\n",
                "\n",
                "tracks = results['tracks']\n",
                "\n",
                "for each_track in tracks:\n",
                "    print(each_track['name'])"
            ]
        }
    ],
    "metadata": {
        "kernelspec": {
            "display_name": ".venv",
            "language": "python",
            "name": "python3"
        },
        "language_info": {
            "codemirror_mode": {
                "name": "ipython",
                "version": 3
            },
            "file_extension": ".py",
            "mimetype": "text/x-python",
            "name": "python",
            "nbconvert_exporter": "python",
            "pygments_lexer": "ipython3",
            "version": "3.11.4"
        },
        "orig_nbformat": 4
    },
    "nbformat": 4,
    "nbformat_minor": 2
}
