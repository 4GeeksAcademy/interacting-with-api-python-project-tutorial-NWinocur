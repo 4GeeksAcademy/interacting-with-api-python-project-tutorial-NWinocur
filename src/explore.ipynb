{
    "cells": [
        {
            "cell_type": "markdown",
            "metadata": {},
            "source": [
                "# Explore here"
            ]
        },
        {
            "cell_type": "code",
            "execution_count": 14,
            "metadata": {},
            "outputs": [],
            "source": [
                "import os\n",
                "import pandas as pd\n",
                "import matplotlib.pyplot as plt\n",
                "import seaborn as sns\n",
                "from dotenv import load_dotenv\n",
                "\n",
                "# load the .env file variables\n",
                "load_dotenv()\n",
                "\n",
                "# Get credential values\n",
                "client_id = os.environ.get(\"CLIENT_ID\")\n",
                "client_secret = os.environ.get(\"CLIENT_SECRET\")"
            ]
        },
        {
            "cell_type": "code",
            "execution_count": 15,
            "metadata": {},
            "outputs": [],
            "source": [
                "import spotipy\n",
                "from spotipy.oauth2 import SpotifyClientCredentials\n",
                "\n",
                "auth_manager = SpotifyClientCredentials(client_id=client_id, client_secret=client_secret)\n",
                "spotify = spotipy.Spotify(auth_manager=auth_manager)"
            ]
        },
        {
            "cell_type": "code",
            "execution_count": 16,
            "metadata": {},
            "outputs": [
                {
                    "name": "stdout",
                    "output_type": "stream",
                    "text": [
                        "Track Name                               Popularity Duration (min) \n",
                        "----------------------------------------------------------------------\n",
                        "Cirrus                                   63         5.87           \n",
                        "Kong                                     62         3.96           \n",
                        "Rosewood                                 60         4.05           \n",
                        "Shadows                                  59         4.75           \n",
                        "Days To Come                             60         3.83           \n",
                        "Tides                                    57         3.77           \n",
                        "Kerala                                   58         3.96           \n",
                        "Break Apart                              58         4.58           \n",
                        "Dark Will Fall (feat. Jacob Lusk)        45         2.28           \n",
                        "Terrapin                                 48         4.64           \n"
                    ]
                }
            ],
            "source": [
                "ARTIST_ID_BONOBO = \"0cmWgDlu9CwTgxPhf403hb\"\n",
                "BONOBO_URI = f\"spotify:artist:{ARTIST_ID_BONOBO}\"\n",
                "\n",
                "results = spotify.artist_top_tracks(ARTIST_ID_BONOBO)\n",
                "\n",
                "tracks = results['tracks']\n",
                "\n",
                "# Print a header row\n",
                "print(f\"{'Track Name':40} {'Popularity':10} {'Duration (min)':15}\")\n",
                "print(\"-\" * 70)\n",
                "\n",
                "# Print track details\n",
                "for each_track in tracks[:10]:  # limit to top 10\n",
                "    name = each_track['name']\n",
                "    popularity = each_track['popularity']\n",
                "    duration_min = each_track['duration_ms'] / 60000\n",
                "    print(f\"{name[:37]:40} {popularity:<10} {duration_min:<15.2f}\")"
            ]
        }
    ],
    "metadata": {
        "kernelspec": {
            "display_name": ".venv",
            "language": "python",
            "name": "python3"
        },
        "language_info": {
            "codemirror_mode": {
                "name": "ipython",
                "version": 3
            },
            "file_extension": ".py",
            "mimetype": "text/x-python",
            "name": "python",
            "nbconvert_exporter": "python",
            "pygments_lexer": "ipython3",
            "version": "3.11.4"
        },
        "orig_nbformat": 4
    },
    "nbformat": 4,
    "nbformat_minor": 2
}
