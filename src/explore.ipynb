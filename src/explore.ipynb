{
    "cells": [
        {
            "cell_type": "markdown",
            "metadata": {},
            "source": [
                "# Explore here"
            ]
        },
        {
            "cell_type": "code",
            "execution_count": 58,
            "metadata": {},
            "outputs": [],
            "source": [
                "import os\n",
                "import pandas as pd\n",
                "import matplotlib.pyplot as plt\n",
                "import seaborn as sns\n",
                "from dotenv import load_dotenv\n",
                "\n",
                "# load the .env file variables\n",
                "load_dotenv()\n",
                "\n",
                "# Get credential values\n",
                "client_id = os.environ.get(\"CLIENT_ID\")\n",
                "client_secret = os.environ.get(\"CLIENT_SECRET\")"
            ]
        },
        {
            "cell_type": "code",
            "execution_count": 59,
            "metadata": {},
            "outputs": [],
            "source": [
                "import spotipy\n",
                "from spotipy.oauth2 import SpotifyClientCredentials\n",
                "\n",
                "auth_manager = SpotifyClientCredentials(client_id=client_id, client_secret=client_secret)\n",
                "spotify = spotipy.Spotify(auth_manager=auth_manager)"
            ]
        },
        {
            "cell_type": "code",
            "execution_count": 60,
            "metadata": {},
            "outputs": [
                {
                    "name": "stdout",
                    "output_type": "stream",
                    "text": [
                        "Track Name                               Popularity Duration (min) \n",
                        "----------------------------------------------------------------------\n",
                        "Cirrus                                   63         5.87           \n",
                        "Kong                                     62         3.96           \n",
                        "Rosewood                                 60         4.05           \n",
                        "Shadows                                  59         4.75           \n",
                        "Days To Come                             60         3.83           \n",
                        "Tides                                    57         3.77           \n",
                        "Kerala                                   58         3.96           \n",
                        "Break Apart                              58         4.58           \n",
                        "Dark Will Fall (feat. Jacob Lusk)        45         2.28           \n",
                        "Terrapin                                 48         4.64           \n"
                    ]
                }
            ],
            "source": [
                "ARTIST_ID_BONOBO = \"0cmWgDlu9CwTgxPhf403hb\"\n",
                "BONOBO_URI = f\"spotify:artist:{ARTIST_ID_BONOBO}\"\n",
                "\n",
                "results = spotify.artist_top_tracks(ARTIST_ID_BONOBO)\n",
                "\n",
                "tracks = results['tracks']\n",
                "\n",
                "# Print a header row\n",
                "print(f\"{'Track Name':40} {'Popularity':10} {'Duration (min)':15}\")\n",
                "print(\"-\" * 70)\n",
                "\n",
                "# isolate just the data I care to meddle with to make printing & converting to a DataFrame easier\n",
                "flatter_track_data = [{\n",
                "    \"name\": each_track[\"name\"],\n",
                "    \"popularity\": each_track[\"popularity\"],\n",
                "    \"duration_min\": each_track[\"duration_ms\"] / 60000\n",
                "} for each_track in tracks[:10]]  # Limit to top 10\n",
                "\n",
                "# Print track details\n",
                "for each_track in flatter_track_data:\n",
                "    print(f\"{each_track['name'][:37]:40} {each_track['popularity']:<10} {each_track['duration_min']:<15.2f}\")"
            ]
        },
        {
            "cell_type": "code",
            "execution_count": null,
            "metadata": {},
            "outputs": [
                {
                    "name": "stdout",
                    "output_type": "stream",
                    "text": [
                        "           name  popularity  duration_min\n",
                        "4  Days To Come          60      3.825333\n",
                        "1          Kong          62      3.963767\n",
                        "0        Cirrus          63      5.870767\n"
                    ]
                }
            ],
            "source": [
                "df = pd.DataFrame(flatter_track_data)\n",
                "\n",
                "# sort the songs by increasing popularity and display the resulting top 3\n",
                "print(df.sort_values(by=['popularity'], ascending=True).tail(3))"
            ]
        }
    ],
    "metadata": {
        "kernelspec": {
            "display_name": ".venv",
            "language": "python",
            "name": "python3"
        },
        "language_info": {
            "codemirror_mode": {
                "name": "ipython",
                "version": 3
            },
            "file_extension": ".py",
            "mimetype": "text/x-python",
            "name": "python",
            "nbconvert_exporter": "python",
            "pygments_lexer": "ipython3",
            "version": "3.11.4"
        },
        "orig_nbformat": 4
    },
    "nbformat": 4,
    "nbformat_minor": 2
}
